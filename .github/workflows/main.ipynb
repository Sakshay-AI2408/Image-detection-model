!pip install torch torchvision torchaudio
import torch
import torchvision
from torchvision import transforms, models
from PIL import Image
import matplotlib.pyplot as plt
from torchvision.models.detection.faster_rcnn import FastRCNNPredictor

# Load a model pre-trained on COCO
model = models.detection.fasterrcnn_resnet50_fpn(pretrained=True)
…  # Add the bounding boxes to the plot
  for i in range(len(boxes)):
    if scores[i] > 0.5: # Set a threshold for the score
      xmin, ymin, xmax, ymax = boxes[i]
      plt.plot([xmin, xmax, xmax, xmin, xmin], [ymin, ymin, ymax, ymax, ymin], linewidth=3)
      plt.text(xmin, ymin, f'Class: {labels[i]}, Score: {scores[i]:.2f}', bbox=dict(facecolor='white'))

  plt.show()

visualize_results(image, prediction)
